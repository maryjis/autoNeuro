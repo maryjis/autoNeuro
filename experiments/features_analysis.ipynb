{
 "cells": [
  {
   "cell_type": "code",
   "execution_count": 4,
   "id": "4a62161c",
   "metadata": {},
   "outputs": [],
   "source": [
    "import pandas as pd"
   ]
  },
  {
   "cell_type": "code",
   "execution_count": 18,
   "id": "7b7e5633",
   "metadata": {},
   "outputs": [],
   "source": [
    "data1 =pd.read_excel(\"results/transcriptomic_all_parts_without_scaling/model_best_0_important_features.xls\")\n",
    "data2 =pd.read_excel(\"results/transcriptomic_mdd1_full_without_scaling/model_best_0_important_features.xls\")\n",
    "data3 =pd.read_excel(\"results/transcriptomic_mdd2_full_without_scaling_v2/model_best_0_important_features.xls\")\n",
    "data1_part2 =pd.read_excel(\"results/transcriptomic_all_parts_without_scaling/model_best_2_important_features.xls\")"
   ]
  },
  {
   "cell_type": "code",
   "execution_count": 15,
   "id": "e7e39ba2",
   "metadata": {},
   "outputs": [],
   "source": [
    "data_bio =pd.read_excel('results/bio/Comparing AI_Bionfo output.xlsx')"
   ]
  },
  {
   "cell_type": "code",
   "execution_count": 11,
   "id": "773ce1c5",
   "metadata": {},
   "outputs": [
    {
     "data": {
      "text/plain": [
       "{'CNTNAP3', 'GRB10', 'GUCY1A1', 'PDK4', 'SERPING1'}"
      ]
     },
     "execution_count": 11,
     "metadata": {},
     "output_type": "execute_result"
    }
   ],
   "source": [
    "set(data1['feature_name'].tolist()) & set(data2['feature_name'].tolist())"
   ]
  },
  {
   "cell_type": "code",
   "execution_count": 12,
   "id": "52010511",
   "metadata": {},
   "outputs": [
    {
     "data": {
      "text/plain": [
       "{'CNTNAP2', 'PDK4'}"
      ]
     },
     "execution_count": 12,
     "metadata": {},
     "output_type": "execute_result"
    }
   ],
   "source": [
    "set(data1['feature_name'].tolist()) & set(data3['feature_name'].tolist())"
   ]
  },
  {
   "cell_type": "code",
   "execution_count": 13,
   "id": "7129a512",
   "metadata": {},
   "outputs": [
    {
     "data": {
      "text/plain": [
       "{'PDK4'}"
      ]
     },
     "execution_count": 13,
     "metadata": {},
     "output_type": "execute_result"
    }
   ],
   "source": [
    "set(data1['feature_name'].tolist()) & set(data3['feature_name'].tolist()) & set(data2['feature_name'].tolist())"
   ]
  },
  {
   "cell_type": "code",
   "execution_count": 17,
   "id": "16501b1d",
   "metadata": {},
   "outputs": [
    {
     "data": {
      "text/plain": [
       "{'CNTNAP3', 'PDK4', 'SERPING1'}"
      ]
     },
     "execution_count": 17,
     "metadata": {},
     "output_type": "execute_result"
    }
   ],
   "source": [
    "set(data1['feature_name'].tolist()) & set(data_bio['feature_name'].tolist())"
   ]
  },
  {
   "cell_type": "code",
   "execution_count": 19,
   "id": "d2227f92",
   "metadata": {},
   "outputs": [
    {
     "data": {
      "text/plain": [
       "{'CCDC50', 'CNTNAP3', 'OLFM4', 'RAB13'}"
      ]
     },
     "execution_count": 19,
     "metadata": {},
     "output_type": "execute_result"
    }
   ],
   "source": [
    "set(data1_part2['feature_name'].tolist()) & set(data_bio['feature_name'].tolist())"
   ]
  }
 ],
 "metadata": {
  "kernelspec": {
   "display_name": "Python 3 (ipykernel)",
   "language": "python",
   "name": "python3"
  },
  "language_info": {
   "codemirror_mode": {
    "name": "ipython",
    "version": 3
   },
   "file_extension": ".py",
   "mimetype": "text/x-python",
   "name": "python",
   "nbconvert_exporter": "python",
   "pygments_lexer": "ipython3",
   "version": "3.9.7"
  }
 },
 "nbformat": 4,
 "nbformat_minor": 5
}
