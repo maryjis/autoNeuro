{
 "cells": [
  {
   "cell_type": "code",
   "execution_count": 1,
   "id": "56fdd0e5",
   "metadata": {},
   "outputs": [],
   "source": [
    "from sklearn.linear_model import LogisticRegression\n",
    "from sklearn.ensemble import RandomForestClassifier\n",
    "import pandas as pd\n",
    "from sklearn.model_selection import cross_val_score\n",
    "from sklearn.preprocessing import LabelEncoder\n",
    "from sklearn.pipeline import Pipeline\n",
    "from sklearn.feature_selection import SelectKBest, chi2\n",
    "from sklearn.model_selection import KFold,StratifiedKFold\n",
    "import numpy as np\n",
    "from pathlib import Path\n",
    "from sklearn.metrics import roc_auc_score, accuracy_score, f1_score\n",
    "import random\n",
    "import os"
   ]
  },
  {
   "cell_type": "code",
   "execution_count": 2,
   "id": "593c872e",
   "metadata": {},
   "outputs": [],
   "source": [
    "SEED =42\n",
    "np.random.seed(SEED)\n",
    "random.seed(SEED)\n",
    "os.environ['PYTHONHASHSEED'] = str(SEED)"
   ]
  },
  {
   "cell_type": "code",
   "execution_count": 3,
   "id": "a1ac66ae",
   "metadata": {},
   "outputs": [],
   "source": [
    "log_dir ='datasets'\n",
    "BATCH_ID = 2\n",
    "with_anxiety=\"\""
   ]
  },
  {
   "cell_type": "code",
   "execution_count": 4,
   "id": "ec8ec749",
   "metadata": {},
   "outputs": [],
   "source": [
    "data=pd.read_csv(log_dir+f'/mdd_data{BATCH_ID}{with_anxiety}.csv')\n",
    "data =data.sample(frac=1).reset_index(drop=True)"
   ]
  },
  {
   "cell_type": "code",
   "execution_count": 5,
   "id": "634baca5",
   "metadata": {},
   "outputs": [],
   "source": [
    "if with_anxiety:\n",
    "    X =data.iloc[:,:-4]\n",
    "    y= data['Anxiety']\n",
    "else:    \n",
    "    X =data.iloc[:,:-2]\n",
    "    y= data['diagnosis']"
   ]
  },
  {
   "cell_type": "code",
   "execution_count": 6,
   "id": "c8c34709",
   "metadata": {},
   "outputs": [],
   "source": [
    "encoder =LabelEncoder()\n",
    "y=encoder.fit_transform(y)"
   ]
  },
  {
   "cell_type": "code",
   "execution_count": 7,
   "id": "5aff57e9",
   "metadata": {},
   "outputs": [],
   "source": [
    "def importance_features(columns, coef, count):\n",
    "    imp_features =sorted(list(zip(columns,coef)), key =lambda x: np.abs(x[-1]), reverse=True)\n",
    "    return imp_features[:count]                     "
   ]
  },
  {
   "cell_type": "code",
   "execution_count": 8,
   "id": "57fe82da",
   "metadata": {},
   "outputs": [],
   "source": [
    "class TopFeatures:\n",
    "    \n",
    "    def __init__(self):\n",
    "        self.top_features =dict()\n",
    "        \n",
    "    def top_cross_val_features(self,important_features):\n",
    "\n",
    "        for elem in important_features:\n",
    "            if elem[0] in self.top_features:\n",
    "                self.top_features[elem[0]]+=1\n",
    "            else:\n",
    "                self.top_features[elem[0]]=1"
   ]
  },
  {
   "cell_type": "code",
   "execution_count": 9,
   "id": "01375f76",
   "metadata": {},
   "outputs": [
    {
     "name": "stdout",
     "output_type": "stream",
     "text": [
      "Accuracy:  0.7272727272727273\n",
      "ROC AUC:  0.7423076923076923\n",
      "F1:  0.6612193588937776\n"
     ]
    }
   ],
   "source": [
    "predicted_values,true_values,prob_values = [], [],[]\n",
    "\n",
    "tp =TopFeatures()\n",
    "for i in range(10):\n",
    "    kf = StratifiedKFold(n_splits=10, shuffle=True, random_state=42)\n",
    "    kf.get_n_splits(X)\n",
    "    for train_index, test_index in kf.split(X,y):\n",
    "        X_train, X_test = X.iloc[train_index], X.iloc[test_index]\n",
    "        y_train, y_test = y[train_index], y[test_index]\n",
    "        if BATCH_ID ==1:\n",
    "            model =LogisticRegression(penalty='l1',solver='liblinear',C =1, random_state=42)\n",
    "        else:    \n",
    "            model =LogisticRegression(penalty='l2',solver='liblinear',C =1,random_state=42)\n",
    "        \n",
    "        model.fit(X_train, y_train)\n",
    "        y_predicted =model.predict_proba(X_test)\n",
    "        y_predicted_binary =model.predict(X_test)\n",
    "        \n",
    "        predicted_values.append(y_predicted_binary)\n",
    "        true_values.append(y_test)\n",
    "        prob_values.append(y_predicted)\n",
    "        \n",
    "        imp_features_top10 =importance_features(X.columns.to_list(), model.coef_[0], 10)\n",
    "        tp.top_cross_val_features(imp_features_top10)\n",
    "        \n",
    "true_values = np.concatenate(true_values)\n",
    "predicted_values = np.concatenate(predicted_values)\n",
    "prob_values = np.concatenate(prob_values) \n",
    "\n",
    "accuracy = accuracy_score(true_values, predicted_values)\n",
    "mean_auc = roc_auc_score(true_values, prob_values[:, 1])\n",
    "f1 =f1_score(true_values, predicted_values, average='macro')\n",
    "print(f'Accuracy:  {accuracy}')\n",
    "print(f'ROC AUC:  {mean_auc}')\n",
    "print(f'F1:  {f1}')        "
   ]
  },
  {
   "cell_type": "code",
   "execution_count": null,
   "id": "fd06c896",
   "metadata": {},
   "outputs": [],
   "source": []
  },
  {
   "cell_type": "code",
   "execution_count": 10,
   "id": "a3024a62",
   "metadata": {},
   "outputs": [],
   "source": [
    "top_features ={k: v for k, v in sorted(tp.top_features.items(), key=lambda item: item[1], reverse=True)}"
   ]
  },
  {
   "cell_type": "code",
   "execution_count": 11,
   "id": "84e9d33d",
   "metadata": {},
   "outputs": [
    {
     "data": {
      "text/plain": [
       "{'CLEC12B': 100,\n",
       " 'ERAP2': 90,\n",
       " 'CYP4F35P': 80,\n",
       " 'CHI3L1': 70,\n",
       " 'SLC26A8': 70,\n",
       " 'PROS1': 70,\n",
       " 'PAX8-AS1': 60,\n",
       " 'PF4V1': 50,\n",
       " 'LGALS2': 50,\n",
       " 'PSPH': 50,\n",
       " 'ARG1': 40,\n",
       " 'SRSF6': 40,\n",
       " 'PPAT': 20,\n",
       " 'OLFM4': 20,\n",
       " 'SLC8A1-AS1': 20,\n",
       " 'XIST': 10,\n",
       " 'SYNM': 10,\n",
       " 'HLA-DQB1': 10,\n",
       " 'B3GLCT': 10,\n",
       " 'NRG1': 10,\n",
       " 'MXRA7': 10,\n",
       " 'ZCCHC2': 10,\n",
       " 'CCL3': 10,\n",
       " 'DEFA4': 10,\n",
       " 'DOCK4': 10,\n",
       " 'PLEKHG1': 10,\n",
       " 'PDK4': 10,\n",
       " 'BTNL8': 10,\n",
       " 'ENSG00000188002': 10,\n",
       " 'TREML4': 10,\n",
       " 'PIGC': 10,\n",
       " 'COLGALT2': 10}"
      ]
     },
     "execution_count": 11,
     "metadata": {},
     "output_type": "execute_result"
    }
   ],
   "source": [
    "top_features"
   ]
  },
  {
   "cell_type": "code",
   "execution_count": 17,
   "id": "71e0cdf6",
   "metadata": {},
   "outputs": [
    {
     "name": "stderr",
     "output_type": "stream",
     "text": [
      "/var/folders/ln/50k0tjx925l50ry751jn0t1h0000gn/T/ipykernel_6834/3173691874.py:1: FutureWarning: As the xlwt package is no longer maintained, the xlwt engine will be removed in a future version of pandas. This is the only engine in pandas that supports writing in the xls format. Install openpyxl and write to an xlsx file instead. You can set the option io.excel.xls.writer to 'xlwt' to silence this warning. While this option is deprecated and will also raise a warning, it can be globally set and the warning suppressed.\n",
      "  pd.Series(top_features).to_excel(f'results/importance_features_{BATCH_ID}{with_anxiety}.xls')\n"
     ]
    }
   ],
   "source": [
    "pd.Series(top_features).to_excel(f'results/importance_features_{BATCH_ID}{with_anxiety}.xls')"
   ]
  },
  {
   "cell_type": "code",
   "execution_count": null,
   "id": "7aa90ba7",
   "metadata": {},
   "outputs": [],
   "source": []
  },
  {
   "cell_type": "code",
   "execution_count": null,
   "id": "285b8b64",
   "metadata": {},
   "outputs": [],
   "source": []
  }
 ],
 "metadata": {
  "kernelspec": {
   "display_name": "Python 3 (ipykernel)",
   "language": "python",
   "name": "python3"
  },
  "language_info": {
   "codemirror_mode": {
    "name": "ipython",
    "version": 3
   },
   "file_extension": ".py",
   "mimetype": "text/x-python",
   "name": "python",
   "nbconvert_exporter": "python",
   "pygments_lexer": "ipython3",
   "version": "3.9.7"
  }
 },
 "nbformat": 4,
 "nbformat_minor": 5
}
